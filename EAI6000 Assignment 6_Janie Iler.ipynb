{
 "cells": [
  {
   "cell_type": "markdown",
   "id": "9cde5f35",
   "metadata": {},
   "source": [
    "# EAI6000 Assignment 6 - Basic NLP with NLTK"
   ]
  },
  {
   "cell_type": "markdown",
   "id": "cf9a2d63",
   "metadata": {},
   "source": [
    "Using ebook text from The Project Gutenberg: Songs of Innocence and Experience by William Blake"
   ]
  },
  {
   "cell_type": "code",
   "execution_count": 356,
   "id": "31d733f4",
   "metadata": {},
   "outputs": [
    {
     "name": "stderr",
     "output_type": "stream",
     "text": [
      "[nltk_data] Downloading package gutenberg to\n",
      "[nltk_data]     C:\\Users\\janie\\AppData\\Roaming\\nltk_data...\n",
      "[nltk_data]   Package gutenberg is already up-to-date!\n"
     ]
    },
    {
     "data": {
      "text/plain": [
       "True"
      ]
     },
     "execution_count": 356,
     "metadata": {},
     "output_type": "execute_result"
    }
   ],
   "source": [
    "#initial download of gutenberg corpora through NLTK\n",
    "import nltk\n",
    "nltk.download('gutenberg')"
   ]
  },
  {
   "cell_type": "code",
   "execution_count": 357,
   "id": "82b944b5",
   "metadata": {},
   "outputs": [],
   "source": [
    "#import gutenberg corpora through NLTK\n",
    "from nltk.corpus import gutenberg"
   ]
  },
  {
   "cell_type": "code",
   "execution_count": 358,
   "id": "33b77191",
   "metadata": {},
   "outputs": [
    {
     "data": {
      "text/plain": [
       "['austen-emma.txt',\n",
       " 'austen-persuasion.txt',\n",
       " 'austen-sense.txt',\n",
       " 'bible-kjv.txt',\n",
       " 'blake-poems.txt',\n",
       " 'bryant-stories.txt',\n",
       " 'burgess-busterbrown.txt',\n",
       " 'carroll-alice.txt',\n",
       " 'chesterton-ball.txt',\n",
       " 'chesterton-brown.txt',\n",
       " 'chesterton-thursday.txt',\n",
       " 'edgeworth-parents.txt',\n",
       " 'melville-moby_dick.txt',\n",
       " 'milton-paradise.txt',\n",
       " 'shakespeare-caesar.txt',\n",
       " 'shakespeare-hamlet.txt',\n",
       " 'shakespeare-macbeth.txt',\n",
       " 'whitman-leaves.txt']"
      ]
     },
     "execution_count": 358,
     "metadata": {},
     "output_type": "execute_result"
    }
   ],
   "source": [
    "#review files\n",
    "nltk.corpus.gutenberg.fileids()"
   ]
  },
  {
   "cell_type": "code",
   "execution_count": 359,
   "id": "5980e7a4",
   "metadata": {},
   "outputs": [
    {
     "data": {
      "text/html": [
       "<div>\n",
       "<style scoped>\n",
       "    .dataframe tbody tr th:only-of-type {\n",
       "        vertical-align: middle;\n",
       "    }\n",
       "\n",
       "    .dataframe tbody tr th {\n",
       "        vertical-align: top;\n",
       "    }\n",
       "\n",
       "    .dataframe thead th {\n",
       "        text-align: right;\n",
       "    }\n",
       "</style>\n",
       "<table border=\"1\" class=\"dataframe\">\n",
       "  <thead>\n",
       "    <tr style=\"text-align: right;\">\n",
       "      <th></th>\n",
       "      <th>author-book</th>\n",
       "      <th>chars_per_word</th>\n",
       "      <th>words_per_sentence</th>\n",
       "      <th>vocabulary_rate</th>\n",
       "    </tr>\n",
       "  </thead>\n",
       "  <tbody>\n",
       "    <tr>\n",
       "      <th>0</th>\n",
       "      <td>austen-emma</td>\n",
       "      <td>5</td>\n",
       "      <td>25</td>\n",
       "      <td>0.04</td>\n",
       "    </tr>\n",
       "    <tr>\n",
       "      <th>1</th>\n",
       "      <td>austen-persuasion</td>\n",
       "      <td>5</td>\n",
       "      <td>26</td>\n",
       "      <td>0.06</td>\n",
       "    </tr>\n",
       "    <tr>\n",
       "      <th>2</th>\n",
       "      <td>austen-sense</td>\n",
       "      <td>5</td>\n",
       "      <td>28</td>\n",
       "      <td>0.05</td>\n",
       "    </tr>\n",
       "    <tr>\n",
       "      <th>3</th>\n",
       "      <td>bible-kjv</td>\n",
       "      <td>4</td>\n",
       "      <td>34</td>\n",
       "      <td>0.01</td>\n",
       "    </tr>\n",
       "    <tr>\n",
       "      <th>4</th>\n",
       "      <td>blake-poems</td>\n",
       "      <td>5</td>\n",
       "      <td>19</td>\n",
       "      <td>0.18</td>\n",
       "    </tr>\n",
       "    <tr>\n",
       "      <th>5</th>\n",
       "      <td>bryant-stories</td>\n",
       "      <td>4</td>\n",
       "      <td>19</td>\n",
       "      <td>0.07</td>\n",
       "    </tr>\n",
       "    <tr>\n",
       "      <th>6</th>\n",
       "      <td>burgess-busterbrown</td>\n",
       "      <td>4</td>\n",
       "      <td>18</td>\n",
       "      <td>0.08</td>\n",
       "    </tr>\n",
       "    <tr>\n",
       "      <th>7</th>\n",
       "      <td>carroll-alice</td>\n",
       "      <td>4</td>\n",
       "      <td>20</td>\n",
       "      <td>0.08</td>\n",
       "    </tr>\n",
       "    <tr>\n",
       "      <th>8</th>\n",
       "      <td>chesterton-ball</td>\n",
       "      <td>5</td>\n",
       "      <td>20</td>\n",
       "      <td>0.09</td>\n",
       "    </tr>\n",
       "    <tr>\n",
       "      <th>9</th>\n",
       "      <td>chesterton-brown</td>\n",
       "      <td>5</td>\n",
       "      <td>23</td>\n",
       "      <td>0.09</td>\n",
       "    </tr>\n",
       "    <tr>\n",
       "      <th>10</th>\n",
       "      <td>chesterton-thursday</td>\n",
       "      <td>5</td>\n",
       "      <td>18</td>\n",
       "      <td>0.09</td>\n",
       "    </tr>\n",
       "    <tr>\n",
       "      <th>11</th>\n",
       "      <td>edgeworth-parents</td>\n",
       "      <td>4</td>\n",
       "      <td>21</td>\n",
       "      <td>0.04</td>\n",
       "    </tr>\n",
       "    <tr>\n",
       "      <th>12</th>\n",
       "      <td>melville-moby_dick</td>\n",
       "      <td>5</td>\n",
       "      <td>26</td>\n",
       "      <td>0.07</td>\n",
       "    </tr>\n",
       "    <tr>\n",
       "      <th>13</th>\n",
       "      <td>milton-paradise</td>\n",
       "      <td>5</td>\n",
       "      <td>52</td>\n",
       "      <td>0.09</td>\n",
       "    </tr>\n",
       "    <tr>\n",
       "      <th>14</th>\n",
       "      <td>shakespeare-caesar</td>\n",
       "      <td>4</td>\n",
       "      <td>12</td>\n",
       "      <td>0.12</td>\n",
       "    </tr>\n",
       "    <tr>\n",
       "      <th>15</th>\n",
       "      <td>shakespeare-hamlet</td>\n",
       "      <td>4</td>\n",
       "      <td>12</td>\n",
       "      <td>0.13</td>\n",
       "    </tr>\n",
       "    <tr>\n",
       "      <th>16</th>\n",
       "      <td>shakespeare-macbeth</td>\n",
       "      <td>4</td>\n",
       "      <td>12</td>\n",
       "      <td>0.15</td>\n",
       "    </tr>\n",
       "    <tr>\n",
       "      <th>17</th>\n",
       "      <td>whitman-leaves</td>\n",
       "      <td>5</td>\n",
       "      <td>36</td>\n",
       "      <td>0.08</td>\n",
       "    </tr>\n",
       "  </tbody>\n",
       "</table>\n",
       "</div>"
      ],
      "text/plain": [
       "            author-book  chars_per_word  words_per_sentence  vocabulary_rate\n",
       "0           austen-emma               5                  25             0.04\n",
       "1     austen-persuasion               5                  26             0.06\n",
       "2          austen-sense               5                  28             0.05\n",
       "3             bible-kjv               4                  34             0.01\n",
       "4           blake-poems               5                  19             0.18\n",
       "5        bryant-stories               4                  19             0.07\n",
       "6   burgess-busterbrown               4                  18             0.08\n",
       "7         carroll-alice               4                  20             0.08\n",
       "8       chesterton-ball               5                  20             0.09\n",
       "9      chesterton-brown               5                  23             0.09\n",
       "10  chesterton-thursday               5                  18             0.09\n",
       "11    edgeworth-parents               4                  21             0.04\n",
       "12   melville-moby_dick               5                  26             0.07\n",
       "13      milton-paradise               5                  52             0.09\n",
       "14   shakespeare-caesar               4                  12             0.12\n",
       "15   shakespeare-hamlet               4                  12             0.13\n",
       "16  shakespeare-macbeth               4                  12             0.15\n",
       "17       whitman-leaves               5                  36             0.08"
      ]
     },
     "execution_count": 359,
     "metadata": {},
     "output_type": "execute_result"
    }
   ],
   "source": [
    "data = []\n",
    "for fileid in gutenberg.fileids():\n",
    "    num_chars = len(gutenberg.raw(fileid))\n",
    "    num_words = len(gutenberg.words(fileid))\n",
    "    num_sents = len(gutenberg.sents(fileid))\n",
    "    # get total vocabulary used in this book\n",
    "    num_vocab = len(set(w.lower() for w in gutenberg.words(fileid))) \n",
    "    data.append([\n",
    "        fileid.split('.')[0] # remove .txt from file name\n",
    "        ,round(num_chars/num_words)    \n",
    "        ,round(num_words/num_sents)\n",
    "        # total vocabulary used divide total words used\n",
    "        ,round(num_vocab/num_words,2) \n",
    "    ])\n",
    "pattern_metrics = pd.DataFrame(data,columns=['author-book','chars_per_word','words_per_sentence','vocabulary_rate'])\n",
    "pattern_metrics"
   ]
  },
  {
   "cell_type": "code",
   "execution_count": 360,
   "id": "10ca5440",
   "metadata": {},
   "outputs": [],
   "source": [
    "for text in gutenberg.fileids():\n",
    "    words = gutenberg.words(text)"
   ]
  },
  {
   "cell_type": "code",
   "execution_count": 361,
   "id": "8affbfe5",
   "metadata": {},
   "outputs": [],
   "source": [
    "targets = ['song', 'love', 'child']\n",
    "filtered = []\n",
    "for text in gutenberg.fileids():\n",
    "    words = gutenberg.words(text)\n",
    "    for word in words:\n",
    "        word_lc = word.lower()              # word.lower() converts the word to lower case\n",
    "        if word_lc in targets:\n",
    "            filtered.append((word_lc, text))"
   ]
  },
  {
   "cell_type": "code",
   "execution_count": 362,
   "id": "d04b95f6",
   "metadata": {},
   "outputs": [
    {
     "name": "stdout",
     "output_type": "stream",
     "text": [
      "[('love', 'austen-emma.txt'), ('love', 'austen-emma.txt'), ('love', 'austen-emma.txt'), ('child', 'austen-emma.txt'), ('child', 'austen-emma.txt'), ('child', 'austen-emma.txt'), ('love', 'austen-emma.txt'), ('child', 'austen-emma.txt'), ('love', 'austen-emma.txt'), ('love', 'austen-emma.txt'), ('love', 'austen-emma.txt'), ('love', 'austen-emma.txt'), ('love', 'austen-emma.txt'), ('love', 'austen-emma.txt'), ('love', 'austen-emma.txt'), ('love', 'austen-emma.txt'), ('love', 'austen-emma.txt'), ('love', 'austen-emma.txt'), ('love', 'austen-emma.txt'), ('love', 'austen-emma.txt')]\n"
     ]
    }
   ],
   "source": [
    "print(filtered[:20])"
   ]
  },
  {
   "cell_type": "code",
   "execution_count": 363,
   "id": "733ff611",
   "metadata": {},
   "outputs": [
    {
     "name": "stdout",
     "output_type": "stream",
     "text": [
      "<ConditionalFreqDist with 3 conditions>\n"
     ]
    }
   ],
   "source": [
    "data = nltk.ConditionalFreqDist(filtered)\n",
    "print(data)"
   ]
  },
  {
   "cell_type": "code",
   "execution_count": 364,
   "id": "8f093b8b",
   "metadata": {},
   "outputs": [
    {
     "data": {
      "text/plain": [
       "FreqDist({'whitman-leaves.txt': 106, 'bible-kjv.txt': 48, 'bryant-stories.txt': 21, 'milton-paradise.txt': 21, 'edgeworth-parents.txt': 15, 'blake-poems.txt': 10, 'melville-moby_dick.txt': 8, 'carroll-alice.txt': 7, 'chesterton-ball.txt': 6, 'austen-emma.txt': 5, ...})"
      ]
     },
     "execution_count": 364,
     "metadata": {},
     "output_type": "execute_result"
    }
   ],
   "source": [
    "data['song']"
   ]
  },
  {
   "cell_type": "code",
   "execution_count": 365,
   "id": "11b8b2e2",
   "metadata": {},
   "outputs": [
    {
     "data": {
      "image/png": "[encoded data removed]",
      "text/plain": [
       "<Figure size 432x288 with 1 Axes>"
      ]
     },
     "metadata": {
      "needs_background": "light"
     },
     "output_type": "display_data"
    },
    {
     "data": {
      "text/plain": [
       "<AxesSubplot:xlabel='Samples', ylabel='Counts'>"
      ]
     },
     "execution_count": 365,
     "metadata": {},
     "output_type": "execute_result"
    }
   ],
   "source": [
    "data.plot()"
   ]
  },
  {
   "cell_type": "code",
   "execution_count": 366,
   "id": "307d3e77",
   "metadata": {},
   "outputs": [
    {
     "data": {
      "text/plain": [
       "38153"
      ]
     },
     "execution_count": 366,
     "metadata": {},
     "output_type": "execute_result"
    }
   ],
   "source": [
    "# check number of words in blake-poems\n",
    "len(gutenberg.raw('blake-poems.txt'))"
   ]
  },
  {
   "cell_type": "code",
   "execution_count": 367,
   "id": "d393e670",
   "metadata": {},
   "outputs": [
    {
     "name": "stdout",
     "output_type": "stream",
     "text": [
      "438\n"
     ]
    }
   ],
   "source": [
    "# check number of sentences\n",
    "totalsents = len(gutenberg.sents('blake-poems.txt'))\n",
    "print(totalsents)"
   ]
  },
  {
   "cell_type": "code",
   "execution_count": 368,
   "id": "d1371070",
   "metadata": {},
   "outputs": [
    {
     "name": "stdout",
     "output_type": "stream",
     "text": [
      "[Poems by William Blake 1789]\n",
      "\n",
      " \n",
      "SONGS OF INNOCENCE AND OF EXPERIENCE\n",
      "and THE BOOK of THEL\n",
      "\n",
      "\n",
      " SONGS OF INNOCENCE\n",
      " \n",
      " \n",
      " INTRODUCTION\n",
      " \n",
      " Piping down the valleys wild,\n",
      "   Piping songs of pleasant glee,\n",
      " On a cloud I saw a child,\n",
      "   And he laughing said to me:\n",
      " \n",
      " \"Pipe a song about a Lamb!\"\n",
      "   So I piped with merry cheer.\n",
      " \"Piper, pipe that song again;\"\n",
      "   So I piped: he wept to hear.\n",
      " \n",
      " \"Drop thy pipe, thy happy pipe;\n",
      "   Sing thy songs of happy cheer:!\"\n",
      " So I sang the same again,\n",
      "   While he wept with joy to hear.\n",
      " \n",
      " \"Piper, sit thee down and write\n",
      "   In a book, that all may read.\"\n",
      " So he vanish'd from my sight;\n",
      "   And I pluck'd a hollow reed,\n",
      " \n",
      " And I made a rural pen,\n",
      "   And I stain'd the water clear,\n",
      " And I wrote my happy songs\n",
      "   Every child may joy to hear.\n",
      " \n",
      " \n",
      " THE SHEPHERD\n",
      " \n",
      " How sweet is the Shepherd's sweet lot!\n",
      " From the morn to the evening he stays;\n",
      " He shall follow his sheep all the day,\n",
      " And his tongue shall be filled with praise.\n",
      " \n",
      " For he hears the lambs' innocent call,\n",
      " And\n"
     ]
    }
   ],
   "source": [
    "#view first 1000 words of blake text\n",
    "print(gutenberg.raw('blake-poems.txt').strip()[:1000])"
   ]
  },
  {
   "cell_type": "code",
   "execution_count": 369,
   "id": "5ca52afa",
   "metadata": {},
   "outputs": [
    {
     "name": "stdout",
     "output_type": "stream",
     "text": [
      "0:\t[Poems by William Blake 1789]\n",
      "1:\t\n",
      "2:\t \n",
      "3:\tSONGS OF INNOCENCE AND OF EXPERIENCE\n",
      "4:\tand THE BOOK of THEL\n",
      "5:\t\n",
      "6:\t\n",
      "7:\t SONGS OF INNOCENCE\n",
      "8:\t \n",
      "9:\t \n",
      "10:\t INTRODUCTION\n",
      "11:\t \n",
      "12:\t Piping down the valleys wild,\n",
      "13:\t   Piping songs of pleasant glee,\n",
      "14:\t On a cloud I saw a child,\n",
      "15:\t   And he laughing said to me:\n",
      "16:\t \n",
      "17:\t \"Pipe a song about a Lamb!\"\n",
      "18:\t   So I piped with merry cheer.\n",
      "19:\t \"Piper, pipe that song again;\"\n",
      "20:\t   So I piped: he wept to hear.\n",
      "21:\t \n",
      "22:\t \"Drop thy pipe, thy happy pipe;\n",
      "23:\t   Sing thy songs of happy cheer:!\"\n",
      "24:\t So I sang the same again,\n",
      "25:\t   While he wept with joy to hear.\n",
      "26:\t \n",
      "27:\t \"Piper, sit thee down and write\n",
      "28:\t   In a book, that all may read.\"\n",
      "29:\t So he vanish'd from my sight;\n",
      "30:\t   And I pluck'd a hollow reed,\n",
      "31:\t \n",
      "32:\t And I made a rural pen,\n",
      "33:\t   And I stain'd the water clear,\n",
      "34:\t And I wrote my happy songs\n",
      "35:\t   Every child may joy to hear.\n",
      "36:\t \n",
      "37:\t \n",
      "38:\t THE SHEPHERD\n",
      "39:\t \n",
      "40:\t How sweet is the Shepherd's sweet lot!\n",
      "41:\t From the morn to the evening he stays;\n",
      "42:\t He shall follow his sheep all the day,\n",
      "43:\t And his tongue shall be filled with praise.\n",
      "44:\t \n",
      "45:\t For he hears the lambs' innocent call,\n",
      "46:\t And he hears the ewes' tender reply;\n",
      "47:\t He is watching while they are in peace,\n",
      "48:\t For they know when their Shepherd is nigh.\n",
      "49:\t \n",
      "50:\t \n",
      "51:\t THE ECHOING GREEN\n",
      "52:\t \n",
      "53:\t The sun does arise,\n",
      "54:\t And make happy the skies;\n",
      "55:\t The merry bells ring\n",
      "56:\t To welcome the Spring;\n",
      "57:\t The skylark and thrush,\n",
      "58:\t The birds of the bush,\n",
      "59:\t Sing louder around\n",
      "60:\t To the bells' cheerful sound;\n",
      "61:\t While our sports shall be seen\n",
      "62:\t On the echoing Green.\n",
      "63:\t \n",
      "64:\t Old John, with white hair,\n",
      "65:\t Does laugh away care,\n",
      "66:\t Sitting under the oak,\n",
      "67:\t Among the old folk.\n",
      "68:\t They laugh at our play,\n",
      "69:\t And soon they all say,\n",
      "70:\t \"Such, such were the joys\n",
      "71:\t When we all -- girls and boys --\n",
      "72:\t In our youth-time were seen\n",
      "73:\t On the echoing Green.\"\n",
      "74:\t \n",
      "75:\t Till the little ones, weary,\n",
      "76:\t No more can be merry:\n",
      "77:\t The sun does descend,\n",
      "78:\t And our sports have an end.\n",
      "79:\t Round the laps of their mothers\n",
      "80:\t Many sisters and brothers,\n",
      "81:\t Like birds in their nest,\n",
      "82:\t Are ready for rest,\n",
      "83:\t And sport no more seen\n",
      "84:\t On the darkening green.\n",
      "85:\t \n",
      "86:\t \n",
      "87:\t THE LAMB\n",
      "88:\t \n",
      "89:\t   Little Lamb, who make thee\n",
      "90:\t   Dost thou know who made thee,\n",
      "91:\t Gave thee life, and bid thee feed\n",
      "92:\t By the stream and o'er the mead;\n",
      "93:\t Gave thee clothing of delight,\n",
      "94:\t Softest clothing, wolly, bright;\n",
      "95:\t Gave thee such a tender voice,\n",
      "96:\t Making all the vales rejoice?\n",
      "97:\t   Little Lamb, who made thee?\n",
      "98:\t   Dost thou know who made thee?\n",
      "99:\t \n",
      "100:\t   Little Lamb, I'll tell thee;\n",
      "101:\t   Little Lamb, I'll tell thee:\n",
      "102:\t He is called by thy name,\n",
      "103:\t For He calls Himself a Lamb\n",
      "104:\t He is meek, and He is mild,\n",
      "105:\t He became a little child.\n",
      "106:\t I a child, and thou a lamb,\n",
      "107:\t We are called by His name.\n",
      "108:\t   Little Lamb, God bless thee!\n",
      "109:\t   Little Lamb, God bless thee!\n",
      "110:\t \n",
      "111:\t \n",
      "112:\t THE LITTLE BLACK BOY\n",
      "113:\t \n",
      "114:\t My mother bore me in the southern wild,\n",
      "115:\t   And I  am black, but oh my soul is white!\n",
      "116:\t White as an angel is the English child,\n",
      "117:\t   But I am black, as if bereaved of light.\n",
      "118:\t \n",
      "119:\t My mother taught me underneath a tree,\n",
      "120:\t   And, sitting down before the heat of day,\n",
      "121:\t She took me on her lap and kissed me,\n",
      "122:\t   And, pointed to the east, began to say:\n",
      "123:\t \n",
      "124:\t \"Look on the rising sun: there God does live,\n",
      "125:\t   And gives His light, and gives His heat away,\n",
      "126:\t And flowers and trees and beasts and men receive\n",
      "127:\t   Comfort in morning, joy in the noonday.\n",
      "128:\t \n",
      "129:\t \"And we are put on earth a little space,\n",
      "130:\t   That we may learn to bear the beams of love\n",
      "131:\t And these black bodies and this sunburnt face\n",
      "132:\t   Is but a cloud, and like a shady grove.\n",
      "133:\t \n",
      "134:\t \"For when our souls have learn'd the heat to bear,\n",
      "135:\t   The cloud will vanish, we shall hear His voice,\n",
      "136:\t Saying, 'Come out from the grove, my love and care\n",
      "137:\t   And round my golden tent like lambs rejoice',\"\n",
      "138:\t \n",
      "139:\t Thus did my mother say, and kissed me;\n",
      "140:\t And thus I say to little English boy.\n",
      "141:\t When I from black and he from white cloud free,\n",
      "142:\t And round the tent of God like lambs we joy\n",
      "143:\t \n",
      "144:\t I'll shade him from the heat till he can bear\n",
      "145:\t To lean in joy upon our Father's knee;\n",
      "146:\t And then I'll stand and stroke his silver hair,\n",
      "147:\t And be like him, and he will then love me.\n",
      "148:\t \n",
      "149:\t \n",
      "150:\t THE BLOSSOM\n"
     ]
    }
   ],
   "source": [
    "# View line by number.\n",
    "for i, line in enumerate(gutenberg.raw('blake-poems.txt').split('\\n')):\n",
    "    if i > 150: # Lets take a look at the first 100 lines.\n",
    "        break\n",
    "    print(str(i) + ':\\t' + line)"
   ]
  },
  {
   "cell_type": "code",
   "execution_count": 370,
   "id": "299beb08",
   "metadata": {},
   "outputs": [
    {
     "data": {
      "text/plain": [
       "' And wish to lead others, when they should be led.'"
      ]
     },
     "execution_count": 370,
     "metadata": {},
     "output_type": "execute_result"
    }
   ],
   "source": [
    "gutenberg.raw('blake-poems.txt').split('\\n')[1233] ##Songs of Innocence 10:534; Songs of Experience 540:1233"
   ]
  },
  {
   "cell_type": "markdown",
   "id": "376d72e8",
   "metadata": {},
   "source": [
    "### Two Lists: SONGS OF INNOCENCE & SONGS OF EXPERIENCE"
   ]
  },
  {
   "cell_type": "code",
   "execution_count": 371,
   "id": "fe95e3cb",
   "metadata": {},
   "outputs": [],
   "source": [
    "innocence = gutenberg.raw('blake-poems.txt').split('\\n')[10:535]\n",
    "experience = gutenberg.raw('blake-poems.txt').split('\\n')[540:1234]"
   ]
  },
  {
   "cell_type": "code",
   "execution_count": 372,
   "id": "466649ee",
   "metadata": {},
   "outputs": [],
   "source": [
    "textinn = list(innocence)"
   ]
  },
  {
   "cell_type": "code",
   "execution_count": 373,
   "id": "a3b4086f",
   "metadata": {},
   "outputs": [],
   "source": [
    "textexp = list(experience)"
   ]
  },
  {
   "cell_type": "code",
   "execution_count": 374,
   "id": "0a623541",
   "metadata": {},
   "outputs": [],
   "source": [
    "tokens = word_tokenize(gutenberg.raw('blake-poems.txt'))"
   ]
  },
  {
   "cell_type": "code",
   "execution_count": 375,
   "id": "acea9abc",
   "metadata": {},
   "outputs": [
    {
     "data": {
      "text/plain": [
       "list"
      ]
     },
     "execution_count": 375,
     "metadata": {},
     "output_type": "execute_result"
    }
   ],
   "source": [
    "type(tokens)"
   ]
  },
  {
   "cell_type": "code",
   "execution_count": 376,
   "id": "dd2ab8d2",
   "metadata": {},
   "outputs": [
    {
     "data": {
      "text/plain": [
       "8239"
      ]
     },
     "execution_count": 376,
     "metadata": {},
     "output_type": "execute_result"
    }
   ],
   "source": [
    "len(tokens)"
   ]
  },
  {
   "cell_type": "code",
   "execution_count": 377,
   "id": "4716c9ef",
   "metadata": {},
   "outputs": [
    {
     "data": {
      "text/plain": [
       "['back',\n",
       " 'unhinderd',\n",
       " 'till',\n",
       " 'she',\n",
       " 'came',\n",
       " 'into',\n",
       " 'the',\n",
       " 'vales',\n",
       " 'of',\n",
       " 'Har']"
      ]
     },
     "execution_count": 377,
     "metadata": {},
     "output_type": "execute_result"
    }
   ],
   "source": [
    "tokens[8229:9239]"
   ]
  },
  {
   "cell_type": "code",
   "execution_count": 378,
   "id": "b0f93308",
   "metadata": {},
   "outputs": [
    {
     "data": {
      "text/plain": [
       "nltk.text.Text"
      ]
     },
     "execution_count": 378,
     "metadata": {},
     "output_type": "execute_result"
    }
   ],
   "source": [
    "text = nltk.Text(tokens)\n",
    "type(text)"
   ]
  },
  {
   "cell_type": "code",
   "execution_count": 379,
   "id": "8b5e966d",
   "metadata": {},
   "outputs": [],
   "source": [
    "cleantxt = text[30050:30060]"
   ]
  },
  {
   "cell_type": "code",
   "execution_count": 380,
   "id": "a7fecaf5",
   "metadata": {},
   "outputs": [
    {
     "name": "stdout",
     "output_type": "stream",
     "text": [
      "Little Lamb; human form; DIVINE IMAGE; LITTLE GIRL; form divine; fade\n",
      "away; LITTLE BOY; HOLY THURSDAY; Lillys leaf; echoing Green; fearful\n",
      "symmetry; desert wild; tell thee; little ones; Dost thou; human dress;\n",
      "watery shore; Gave thee; given thee; William Blake\n"
     ]
    }
   ],
   "source": [
    "text.collocations()"
   ]
  },
  {
   "cell_type": "code",
   "execution_count": 381,
   "id": "8127a3dc",
   "metadata": {},
   "outputs": [
    {
     "name": "stdout",
     "output_type": "stream",
     "text": [
      "0:\t INTRODUCTION\n",
      "1:\t \n",
      "2:\t Piping down the valleys wild,\n",
      "3:\t   Piping songs of pleasant glee,\n",
      "4:\t On a cloud I saw a child,\n",
      "5:\t   And he laughing said to me:\n",
      "6:\t \n",
      "7:\t \"Pipe a song about a Lamb!\"\n",
      "8:\t   So I piped with merry cheer.\n",
      "9:\t \"Piper, pipe that song again;\"\n",
      "10:\t   So I piped: he wept to hear.\n",
      "11:\t \n",
      "12:\t \"Drop thy pipe, thy happy pipe;\n",
      "13:\t   Sing thy songs of happy cheer:!\"\n",
      "14:\t So I sang the same again,\n",
      "15:\t   While he wept with joy to hear.\n",
      "16:\t \n",
      "17:\t \"Piper, sit thee down and write\n",
      "18:\t   In a book, that all may read.\"\n",
      "19:\t So he vanish'd from my sight;\n",
      "20:\t   And I pluck'd a hollow reed,\n",
      "21:\t \n",
      "22:\t And I made a rural pen,\n",
      "23:\t   And I stain'd the water clear,\n",
      "24:\t And I wrote my happy songs\n",
      "25:\t   Every child may joy to hear.\n",
      "26:\t \n",
      "27:\t \n",
      "28:\t THE SHEPHERD\n",
      "29:\t \n",
      "30:\t How sweet is the Shepherd's sweet lot!\n",
      "31:\t From the morn to the evening he stays;\n",
      "32:\t He shall follow his sheep all the day,\n",
      "33:\t And his tongue shall be filled with praise.\n",
      "34:\t \n",
      "35:\t For he hears the lambs' innocent call,\n",
      "36:\t And he hears the ewes' tender reply;\n",
      "37:\t He is watching while they are in peace,\n",
      "38:\t For they know when their Shepherd is nigh.\n",
      "39:\t \n",
      "40:\t \n",
      "41:\t THE ECHOING GREEN\n",
      "42:\t \n",
      "43:\t The sun does arise,\n",
      "44:\t And make happy the skies;\n",
      "45:\t The merry bells ring\n",
      "46:\t To welcome the Spring;\n",
      "47:\t The skylark and thrush,\n",
      "48:\t The birds of the bush,\n",
      "49:\t Sing louder around\n",
      "50:\t To the bells' cheerful sound;\n",
      "51:\t While our sports shall be seen\n",
      "52:\t On the echoing Green.\n",
      "53:\t \n",
      "54:\t Old John, with white hair,\n",
      "55:\t Does laugh away care,\n",
      "56:\t Sitting under the oak,\n",
      "57:\t Among the old folk.\n",
      "58:\t They laugh at our play,\n",
      "59:\t And soon they all say,\n",
      "60:\t \"Such, such were the joys\n",
      "61:\t When we all -- girls and boys --\n",
      "62:\t In our youth-time were seen\n",
      "63:\t On the echoing Green.\"\n",
      "64:\t \n",
      "65:\t Till the little ones, weary,\n",
      "66:\t No more can be merry:\n",
      "67:\t The sun does descend,\n",
      "68:\t And our sports have an end.\n",
      "69:\t Round the laps of their mothers\n",
      "70:\t Many sisters and brothers,\n",
      "71:\t Like birds in their nest,\n",
      "72:\t Are ready for rest,\n",
      "73:\t And sport no more seen\n",
      "74:\t On the darkening green.\n",
      "75:\t \n",
      "76:\t \n",
      "77:\t THE LAMB\n",
      "78:\t \n",
      "79:\t   Little Lamb, who make thee\n",
      "80:\t   Dost thou know who made thee,\n",
      "81:\t Gave thee life, and bid thee feed\n",
      "82:\t By the stream and o'er the mead;\n",
      "83:\t Gave thee clothing of delight,\n",
      "84:\t Softest clothing, wolly, bright;\n",
      "85:\t Gave thee such a tender voice,\n",
      "86:\t Making all the vales rejoice?\n",
      "87:\t   Little Lamb, who made thee?\n",
      "88:\t   Dost thou know who made thee?\n",
      "89:\t \n",
      "90:\t   Little Lamb, I'll tell thee;\n",
      "91:\t   Little Lamb, I'll tell thee:\n",
      "92:\t He is called by thy name,\n",
      "93:\t For He calls Himself a Lamb\n",
      "94:\t He is meek, and He is mild,\n",
      "95:\t He became a little child.\n",
      "96:\t I a child, and thou a lamb,\n",
      "97:\t We are called by His name.\n",
      "98:\t   Little Lamb, God bless thee!\n",
      "99:\t   Little Lamb, God bless thee!\n",
      "100:\t \n",
      "101:\t \n",
      "102:\t THE LITTLE BLACK BOY\n",
      "103:\t \n",
      "104:\t My mother bore me in the southern wild,\n",
      "105:\t   And I  am black, but oh my soul is white!\n",
      "106:\t White as an angel is the English child,\n",
      "107:\t   But I am black, as if bereaved of light.\n",
      "108:\t \n",
      "109:\t My mother taught me underneath a tree,\n",
      "110:\t   And, sitting down before the heat of day,\n",
      "111:\t She took me on her lap and kissed me,\n",
      "112:\t   And, pointed to the east, began to say:\n",
      "113:\t \n",
      "114:\t \"Look on the rising sun: there God does live,\n",
      "115:\t   And gives His light, and gives His heat away,\n",
      "116:\t And flowers and trees and beasts and men receive\n",
      "117:\t   Comfort in morning, joy in the noonday.\n",
      "118:\t \n",
      "119:\t \"And we are put on earth a little space,\n",
      "120:\t   That we may learn to bear the beams of love\n",
      "121:\t And these black bodies and this sunburnt face\n",
      "122:\t   Is but a cloud, and like a shady grove.\n",
      "123:\t \n",
      "124:\t \"For when our souls have learn'd the heat to bear,\n",
      "125:\t   The cloud will vanish, we shall hear His voice,\n",
      "126:\t Saying, 'Come out from the grove, my love and care\n",
      "127:\t   And round my golden tent like lambs rejoice',\"\n",
      "128:\t \n",
      "129:\t Thus did my mother say, and kissed me;\n",
      "130:\t And thus I say to little English boy.\n",
      "131:\t When I from black and he from white cloud free,\n",
      "132:\t And round the tent of God like lambs we joy\n",
      "133:\t \n",
      "134:\t I'll shade him from the heat till he can bear\n",
      "135:\t To lean in joy upon our Father's knee;\n",
      "136:\t And then I'll stand and stroke his silver hair,\n",
      "137:\t And be like him, and he will then love me.\n",
      "138:\t \n",
      "139:\t \n",
      "140:\t THE BLOSSOM\n",
      "141:\t \n",
      "142:\t Merry, merry sparrow!\n",
      "143:\t Under leaves so green\n",
      "144:\t A happy blossom \n",
      "145:\t Sees you, swift as arrow,\n",
      "146:\t Seek your cradle narrow,\n",
      "147:\t Near my bosom.\n",
      "148:\t Pretty, pretty robin!\n",
      "149:\t Under leaves so green\n",
      "150:\t A happy blossom\n"
     ]
    }
   ],
   "source": [
    "for i, line in enumerate(innocence):\n",
    "    if i > 150: # look at the first 150 lines of innocence.\n",
    "        break\n",
    "    print(str(i) + ':\\t' + line)"
   ]
  },
  {
   "cell_type": "code",
   "execution_count": 382,
   "id": "cd622ff6",
   "metadata": {},
   "outputs": [
    {
     "name": "stdout",
     "output_type": "stream",
     "text": [
      "0:\t INTRODUCTION\n",
      "1:\t \n",
      "2:\t Hear the voice of the Bard,\n",
      "3:\t Who present, past, and future, sees;\n",
      "4:\t Whose ears have heard\n",
      "5:\t The Holy Word\n",
      "6:\t That walked among the ancient tree;\n",
      "7:\t \n",
      "8:\t Calling the lapsed soul,\n",
      "9:\t And weeping in the evening dew;\n",
      "10:\t That might control\n",
      "11:\t The starry pole,\n",
      "12:\t And fallen, fallen light renew!\n",
      "13:\t \n",
      "14:\t \"O Earth, O Earth, return!\n",
      "15:\t Arise from out the dewy grass!\n",
      "16:\t Night is worn,\n",
      "17:\t And the morn\n",
      "18:\t Rises from the slumbrous mass.\n",
      "19:\t \n",
      "20:\t \"Turn away no more;\n",
      "21:\t Why wilt thou turn away?\n",
      "22:\t The starry floor,\n",
      "23:\t The watery shore,\n",
      "24:\t Are given thee till the break of day.\"\n",
      "25:\t \n",
      "26:\t \n",
      "27:\t EARTH'S ANSWER\n",
      "28:\t \n",
      "29:\t Earth raised up her head\n",
      "30:\t From the darkness dread and drear,\n",
      "31:\t Her light fled,\n",
      "32:\t Stony, dread,\n",
      "33:\t And her locks covered with grey despair.\n",
      "34:\t \n",
      "35:\t \"Prisoned on watery shore,\n",
      "36:\t Starry jealousy does keep my den\n",
      "37:\t Cold and hoar;\n",
      "38:\t Weeping o're,\n",
      "39:\t I hear the father of the ancient men.\n",
      "40:\t \n",
      "41:\t \"Selfish father of men!\n",
      "42:\t Cruel, jealous, selfish fear!\n",
      "43:\t Can delight,\n",
      "44:\t Chained in night,\n",
      "45:\t The virgins of youth and morning bear?\n",
      "46:\t \n",
      "47:\t \n",
      "48:\t \"Does spring hide its joy,\n",
      "49:\t When buds and blossoms grow?\n",
      "50:\t Does the sower \n",
      "51:\t Sow by night,\n",
      "52:\t Or the plowman in darkness plough?\n",
      "53:\t \n",
      "54:\t \"Break this heavy chain,\n",
      "55:\t That does freeze my bones around!\n",
      "56:\t Selfish, vain,\n",
      "57:\t Eternal bane,\n",
      "58:\t That free love with bondage bound.\"\n",
      "59:\t \n",
      "60:\t \n",
      "61:\t THE CLOD AND THE PEBBLE\n",
      "62:\t \n",
      "63:\t \"Love seeketh not itself to please,\n",
      "64:\t   Nor for itself hath any care,\n",
      "65:\t But for another gives it ease,\n",
      "66:\t   And builds a heaven in hell's despair.\"\n",
      "67:\t \n",
      "68:\t So sang a little clod of clay,\n",
      "69:\t   Trodden with the cattle's feet,\n",
      "70:\t But a pebble of the brook\n",
      "71:\t   Warbled out these metres meet:\n",
      "72:\t \n",
      "73:\t \"Love seeketh only Self to please,\n",
      "74:\t   To bind another to its delight,\n",
      "75:\t Joys in another's loss of ease,\n",
      "76:\t   And builds a hell in heaven's despite.\"\n",
      "77:\t \n",
      "78:\t \n",
      "79:\t HOLY THURSDAY\n",
      "80:\t \n",
      "81:\t Is this a holy thing to see\n",
      "82:\t   In a rich and fruitful land, --\n",
      "83:\t Babes reduced to misery,\n",
      "84:\t   Fed with cold and usurous hand?\n",
      "85:\t \n",
      "86:\t Is that trembling cry a song?\n",
      "87:\t   Can it be a song of joy?\n",
      "88:\t And so many children poor?\n",
      "89:\t   It is a land of poverty!\n",
      "90:\t \n",
      "91:\t And their son does never shine,\n",
      "92:\t   And their fields are bleak and bare,\n",
      "93:\t And their ways are filled with thorns:\n",
      "94:\t   It is eternal winter there.\n",
      "95:\t \n",
      "96:\t For where'er the sun does shine,\n",
      "97:\t   And where'er the rain does fall,\n",
      "98:\t Babes should never hunger there,\n",
      "99:\t   Nor poverty the mind appall.\n",
      "100:\t \n",
      "101:\t \n",
      "102:\t THE LITTLE GIRL LOST\n",
      "103:\t \n",
      "104:\t In futurity\n",
      "105:\t I prophetic see\n",
      "106:\t That the earth from sleep\n",
      "107:\t (Grave the sentence deep)\n",
      "108:\t \n",
      "109:\t Shall arise, and seek\n",
      "110:\t for her Maker meek;\n",
      "111:\t And the desert wild\n",
      "112:\t Become a garden mild.\n",
      "113:\t \n",
      "114:\t In the southern clime,\n",
      "115:\t Where the summer's prime\n",
      "116:\t Never fades away,\n",
      "117:\t Lovely Lyca lay.\n",
      "118:\t \n",
      "119:\t Seven summers old\n",
      "120:\t Lovely Lyca told.\n",
      "121:\t She had wandered long,\n",
      "122:\t Hearing wild birds' song.\n",
      "123:\t \n",
      "124:\t \"Sweet sleep, come to me\n",
      "125:\t Underneath this tree;\n",
      "126:\t Do father, mother, weep?\n",
      "127:\t Where can Lyca sleep?\n",
      "128:\t \n",
      "129:\t \"Lost in desert wild\n",
      "130:\t Is your little child.\n",
      "131:\t How can Lyca sleep\n",
      "132:\t If her mother weep?\n",
      "133:\t \n",
      "134:\t \"If her heart does ache,\n",
      "135:\t Then let Lyca wake;\n",
      "136:\t If my mother sleep,\n",
      "137:\t Lyca shall not weep.\n",
      "138:\t \n",
      "139:\t \"Frowning, frowning night,\n",
      "140:\t O'er this desert bright\n",
      "141:\t Let thy moon arise,\n",
      "142:\t While I close my eyes.\"\n",
      "143:\t \n",
      "144:\t Sleeping Lyca lay\n",
      "145:\t While the beasts of prey,\n",
      "146:\t Come from caverns deep,\n",
      "147:\t Viewed the maid asleep.\n",
      "148:\t \n",
      "149:\t The kingly lion stood,\n",
      "150:\t And the virgin viewed:\n"
     ]
    }
   ],
   "source": [
    "for i, line in enumerate(experience):\n",
    "    if i > 150: # look at the first 150 lines of experience.\n",
    "        break\n",
    "    print(str(i) + ':\\t' + line)"
   ]
  },
  {
   "cell_type": "code",
   "execution_count": 383,
   "id": "5f8b7ccd",
   "metadata": {},
   "outputs": [
    {
     "data": {
      "text/plain": [
       "525"
      ]
     },
     "execution_count": 383,
     "metadata": {},
     "output_type": "execute_result"
    }
   ],
   "source": [
    "len(innocence)"
   ]
  },
  {
   "cell_type": "code",
   "execution_count": 384,
   "id": "183a9d5d",
   "metadata": {},
   "outputs": [
    {
     "data": {
      "text/plain": [
       "694"
      ]
     },
     "execution_count": 384,
     "metadata": {},
     "output_type": "execute_result"
    }
   ],
   "source": [
    "len(experience)"
   ]
  },
  {
   "cell_type": "code",
   "execution_count": 385,
   "id": "b3415861",
   "metadata": {},
   "outputs": [
    {
     "name": "stdout",
     "output_type": "stream",
     "text": [
      " He doth sit by us and moan.\n"
     ]
    }
   ],
   "source": [
    "print(innocence[524]) #check for last line"
   ]
  },
  {
   "cell_type": "code",
   "execution_count": 386,
   "id": "7fc35a12",
   "metadata": {},
   "outputs": [],
   "source": [
    "import pandas as pd\n",
    "\n",
    "df = pd.DataFrame({'songs': ['innocence', 'experience'], 'text' : [textinn, textexp]})"
   ]
  },
  {
   "cell_type": "code",
   "execution_count": 387,
   "id": "f2536ab6",
   "metadata": {},
   "outputs": [
    {
     "data": {
      "text/html": [
       "<div>\n",
       "<style scoped>\n",
       "    .dataframe tbody tr th:only-of-type {\n",
       "        vertical-align: middle;\n",
       "    }\n",
       "\n",
       "    .dataframe tbody tr th {\n",
       "        vertical-align: top;\n",
       "    }\n",
       "\n",
       "    .dataframe thead th {\n",
       "        text-align: right;\n",
       "    }\n",
       "</style>\n",
       "<table border=\"1\" class=\"dataframe\">\n",
       "  <thead>\n",
       "    <tr style=\"text-align: right;\">\n",
       "      <th></th>\n",
       "      <th>songs</th>\n",
       "      <th>text</th>\n",
       "    </tr>\n",
       "  </thead>\n",
       "  <tbody>\n",
       "    <tr>\n",
       "      <th>0</th>\n",
       "      <td>innocence</td>\n",
       "      <td>[ INTRODUCTION,  ,  Piping down the valleys wi...</td>\n",
       "    </tr>\n",
       "    <tr>\n",
       "      <th>1</th>\n",
       "      <td>experience</td>\n",
       "      <td>[ INTRODUCTION,  ,  Hear the voice of the Bard...</td>\n",
       "    </tr>\n",
       "  </tbody>\n",
       "</table>\n",
       "</div>"
      ],
      "text/plain": [
       "        songs                                               text\n",
       "0   innocence  [ INTRODUCTION,  ,  Piping down the valleys wi...\n",
       "1  experience  [ INTRODUCTION,  ,  Hear the voice of the Bard..."
      ]
     },
     "execution_count": 387,
     "metadata": {},
     "output_type": "execute_result"
    }
   ],
   "source": [
    "df.dropna()"
   ]
  },
  {
   "cell_type": "code",
   "execution_count": 388,
   "id": "6ce757fa",
   "metadata": {},
   "outputs": [
    {
     "data": {
      "text/plain": [
       "0    [ INTRODUCTION,  ,  Piping down the valleys wi...\n",
       "1    [ INTRODUCTION,  ,  Hear the voice of the Bard...\n",
       "Name: text, dtype: object"
      ]
     },
     "execution_count": 388,
     "metadata": {},
     "output_type": "execute_result"
    }
   ],
   "source": [
    "df['text']"
   ]
  },
  {
   "cell_type": "code",
   "execution_count": 389,
   "id": "cdfe904d",
   "metadata": {},
   "outputs": [],
   "source": [
    "#import tokenize\n",
    "from nltk import sent_tokenize, word_tokenize\n",
    "from typing import List"
   ]
  },
  {
   "cell_type": "code",
   "execution_count": 390,
   "id": "f0230ad1",
   "metadata": {},
   "outputs": [
    {
     "name": "stdout",
     "output_type": "stream",
     "text": [
      "Innocence : 525  sentences\n",
      "Experience : 694  sentences\n"
     ]
    }
   ],
   "source": [
    "text_dict = {'Innocence':innocence, \"Experience\": experience}\n",
    "\n",
    "for key in text_dict.keys():\n",
    "    print(key, ':', len(text_dict[key]), ' sentences')"
   ]
  },
  {
   "cell_type": "code",
   "execution_count": 391,
   "id": "88326a89",
   "metadata": {},
   "outputs": [
    {
     "name": "stdout",
     "output_type": "stream",
     "text": [
      "['Piping', 'down', 'the', 'valleys', 'wild', ',']\n",
      "['Piping', 'songs', 'of', 'pleasant', 'glee', ',']\n",
      "['On', 'a', 'cloud', 'I', 'saw', 'a', 'child', ',']\n",
      "['And', 'he', 'laughing', 'said', 'to', 'me', ':']\n",
      "['``', 'Pipe', 'a', 'song', 'about', 'a', 'Lamb', '!', \"''\"]\n",
      "['So', 'I', 'piped', 'with', 'merry', 'cheer', '.']\n",
      "['``', 'Piper', ',', 'pipe', 'that', 'song', 'again', ';', \"''\"]\n",
      "['So', 'I', 'piped', ':', 'he', 'wept', 'to', 'hear', '.']\n",
      "['``', 'Drop', 'thy', 'pipe', ',', 'thy', 'happy', 'pipe', ';']\n",
      "['Sing', 'thy', 'songs', 'of', 'happy', 'cheer', ':', '!', \"''\"]\n",
      "['So', 'I', 'sang', 'the', 'same', 'again', ',']\n",
      "['While', 'he', 'wept', 'with', 'joy', 'to', 'hear', '.']\n",
      "['``', 'Piper', ',', 'sit', 'thee', 'down', 'and', 'write']\n",
      "['In', 'a', 'book', ',', 'that', 'all', 'may', 'read', '.', \"''\"]\n",
      "['So', 'he', 'vanish', \"'d\", 'from', 'my', 'sight', ';']\n",
      "['And', 'I', 'pluck', \"'d\", 'a', 'hollow', 'reed', ',']\n",
      "['And', 'I', 'made', 'a', 'rural', 'pen', ',']\n",
      "['And', 'I', 'stain', \"'d\", 'the', 'water', 'clear', ',']\n",
      "['And', 'I', 'wrote', 'my', 'happy', 'songs']\n"
     ]
    }
   ],
   "source": [
    "i = 1\n",
    "nl = []\n",
    "\n",
    "while i < 25:\n",
    "    for sent in sent_tokenize(innocence[i]):\n",
    "        print(word_tokenize(sent))\n",
    "    nl.append(word_tokenize(sent))\n",
    "    i += 1"
   ]
  },
  {
   "cell_type": "markdown",
   "id": "64d4f18f",
   "metadata": {},
   "source": [
    "### Remove Stopwords"
   ]
  },
  {
   "cell_type": "code",
   "execution_count": 392,
   "id": "f21396f4",
   "metadata": {},
   "outputs": [],
   "source": [
    "#import stopwords\n",
    "from nltk.corpus import stopwords"
   ]
  },
  {
   "cell_type": "code",
   "execution_count": 393,
   "id": "ed89b179",
   "metadata": {},
   "outputs": [
    {
     "name": "stdout",
     "output_type": "stream",
     "text": [
      "['i', 'a', 'child', ',', 'and', 'thou', 'a', 'lamb', ',']\n"
     ]
    }
   ],
   "source": [
    "# Treat the multiple sentences as one document (no need to sent_tokenize)\n",
    "# Tokenize and lowercase\n",
    "sent96_tokenized_lowered = list(map(str.lower, word_tokenize(innocence[96])))\n",
    "print(sent96_tokenized_lowered)"
   ]
  },
  {
   "cell_type": "code",
   "execution_count": 394,
   "id": "e59cfb64",
   "metadata": {},
   "outputs": [],
   "source": [
    "stopwords_en = stopwords.words('english') #store stopwords"
   ]
  },
  {
   "cell_type": "code",
   "execution_count": 395,
   "id": "320aa59f",
   "metadata": {},
   "outputs": [
    {
     "name": "stdout",
     "output_type": "stream",
     "text": [
      "['child', ',', 'thou', 'lamb', ',']\n"
     ]
    }
   ],
   "source": [
    "# view words outside of stopwords list\n",
    "print([word for word in sent96_tokenized_lowered if word not in stopwords_en])"
   ]
  },
  {
   "cell_type": "code",
   "execution_count": 396,
   "id": "4f182f27",
   "metadata": {},
   "outputs": [],
   "source": [
    "from string import punctuation\n",
    "stopwords_en.extend(set(punctuation)) #add punctuation to stopwords list"
   ]
  },
  {
   "cell_type": "code",
   "execution_count": 397,
   "id": "990f15cd",
   "metadata": {},
   "outputs": [
    {
     "name": "stdout",
     "output_type": "stream",
     "text": [
      "['child', 'thou', 'lamb']\n"
     ]
    }
   ],
   "source": [
    "print([word for word in sent96_tokenized_lowered if word not in stopwords_en]) #view without punctuation and stopwords"
   ]
  },
  {
   "cell_type": "code",
   "execution_count": 398,
   "id": "a09eb8d1",
   "metadata": {},
   "outputs": [],
   "source": [
    "from nltk import pos_tag\n",
    "from nltk.stem import WordNetLemmatizer"
   ]
  },
  {
   "cell_type": "code",
   "execution_count": 399,
   "id": "bfad4d7a",
   "metadata": {},
   "outputs": [],
   "source": [
    "wnl = WordNetLemmatizer()\n",
    "\n",
    "def penn2morphy(penntag):\n",
    "    \"\"\" Converts Penn Treebank tags to WordNet. \"\"\"\n",
    "    morphy_tag = {'NN':'n', 'JJ':'a',\n",
    "                  'VB':'v', 'RB':'r'}\n",
    "    try:\n",
    "        return morphy_tag[penntag[:2]]\n",
    "    except:\n",
    "        return 'n' \n",
    "    \n",
    "def lemmatize_sent(text): \n",
    "    # Text input is string, returns lowercased strings.\n",
    "    return [wnl.lemmatize(word.lower(), pos=penn2morphy(tag)) \n",
    "            for word, tag in pos_tag(word_tokenize(text))]\n"
   ]
  },
  {
   "cell_type": "code",
   "execution_count": 400,
   "id": "ebaae4f4",
   "metadata": {},
   "outputs": [
    {
     "data": {
      "text/plain": [
       "['i', 'a', 'child', ',', 'and', 'thou', 'a', 'lamb', ',']"
      ]
     },
     "execution_count": 400,
     "metadata": {},
     "output_type": "execute_result"
    }
   ],
   "source": [
    "lemmatize_sent(innocence[96])"
   ]
  },
  {
   "cell_type": "code",
   "execution_count": 401,
   "id": "765609f1",
   "metadata": {},
   "outputs": [
    {
     "name": "stdout",
     "output_type": "stream",
     "text": [
      "Original Sentence 96:\n",
      " I a child, and thou a lamb, \n",
      "\n",
      "Lemmatized and removed stopwords:\n",
      "['child', 'thou', 'lamb']\n"
     ]
    }
   ],
   "source": [
    "print('Original Sentence 96:')\n",
    "print(sent96, '\\n')\n",
    "print('Lemmatized and removed stopwords:')\n",
    "print([word for word in lemmatize_sent(sent96) \n",
    "       if word not in stopwords_en\n",
    "       and not word.isdigit() ])"
   ]
  },
  {
   "cell_type": "code",
   "execution_count": 402,
   "id": "e4ac1d5b",
   "metadata": {},
   "outputs": [],
   "source": [
    "# create function for process of lemmatization and POS\n",
    "def preprocess_text(text):\n",
    "    # Input: str, i.e. document/sentence\n",
    "    # Output: list(str) , i.e. list of lemmas\n",
    "    return [word for word in lemmatize_sent(text) \n",
    "            if word not in stopwords_en\n",
    "            and not word.isdigit()]"
   ]
  },
  {
   "cell_type": "markdown",
   "id": "c8da553d",
   "metadata": {},
   "source": [
    "### Vectorize"
   ]
  },
  {
   "cell_type": "code",
   "execution_count": 403,
   "id": "d7305583",
   "metadata": {},
   "outputs": [],
   "source": [
    "sent92 = innocence[92]"
   ]
  },
  {
   "cell_type": "code",
   "execution_count": 405,
   "id": "ae225272",
   "metadata": {},
   "outputs": [
    {
     "data": {
      "text/plain": [
       "{'child': 1, 'thou': 4, 'lamb': 2, 'call': 0, 'thy': 5, 'name': 3}"
      ]
     },
     "execution_count": 405,
     "metadata": {},
     "output_type": "execute_result"
    }
   ],
   "source": [
    "with StringIO('\\n'.join([innocence[96],innocence[92]])) as fin:\n",
    "    # Override the analyzer totally with our preprocess text\n",
    "    count_vect = CountVectorizer(analyzer=preprocess_text)\n",
    "    count_vect.fit_transform(fin)\n",
    "count_vect.vocabulary_ "
   ]
  },
  {
   "cell_type": "markdown",
   "id": "b0e3b608",
   "metadata": {},
   "source": [
    "### Analysis"
   ]
  },
  {
   "cell_type": "code",
   "execution_count": 406,
   "id": "bfbd30d1",
   "metadata": {},
   "outputs": [],
   "source": [
    "import pandas as pd\n",
    "from io import StringIO\n",
    "\n",
    "blake = gutenberg.raw('blake-poems.txt')\n"
   ]
  },
  {
   "cell_type": "code",
   "execution_count": 407,
   "id": "fe988611",
   "metadata": {},
   "outputs": [],
   "source": [
    "bp = pd.DataFrame(textinn)"
   ]
  },
  {
   "cell_type": "code",
   "execution_count": 408,
   "id": "86fcf6fe",
   "metadata": {},
   "outputs": [
    {
     "data": {
      "text/html": [
       "<div>\n",
       "<style scoped>\n",
       "    .dataframe tbody tr th:only-of-type {\n",
       "        vertical-align: middle;\n",
       "    }\n",
       "\n",
       "    .dataframe tbody tr th {\n",
       "        vertical-align: top;\n",
       "    }\n",
       "\n",
       "    .dataframe thead th {\n",
       "        text-align: right;\n",
       "    }\n",
       "</style>\n",
       "<table border=\"1\" class=\"dataframe\">\n",
       "  <thead>\n",
       "    <tr style=\"text-align: right;\">\n",
       "      <th></th>\n",
       "      <th>0</th>\n",
       "    </tr>\n",
       "  </thead>\n",
       "  <tbody>\n",
       "    <tr>\n",
       "      <th>0</th>\n",
       "      <td>INTRODUCTION</td>\n",
       "    </tr>\n",
       "    <tr>\n",
       "      <th>1</th>\n",
       "      <td></td>\n",
       "    </tr>\n",
       "    <tr>\n",
       "      <th>2</th>\n",
       "      <td>Piping down the valleys wild,</td>\n",
       "    </tr>\n",
       "    <tr>\n",
       "      <th>3</th>\n",
       "      <td>Piping songs of pleasant glee,</td>\n",
       "    </tr>\n",
       "    <tr>\n",
       "      <th>4</th>\n",
       "      <td>On a cloud I saw a child,</td>\n",
       "    </tr>\n",
       "  </tbody>\n",
       "</table>\n",
       "</div>"
      ],
      "text/plain": [
       "                                   0\n",
       "0                       INTRODUCTION\n",
       "1                                   \n",
       "2      Piping down the valleys wild,\n",
       "3     Piping songs of pleasant glee,\n",
       "4          On a cloud I saw a child,"
      ]
     },
     "execution_count": 408,
     "metadata": {},
     "output_type": "execute_result"
    }
   ],
   "source": [
    "bp.head()"
   ]
  },
  {
   "cell_type": "code",
   "execution_count": 409,
   "id": "bb806222",
   "metadata": {},
   "outputs": [],
   "source": [
    "from sklearn.feature_extraction.text import CountVectorizer\n",
    "from sklearn.model_selection import train_test_split \n",
    "\n",
    "train, valid = train_test_split(bp, test_size=0.2) #train test split"
   ]
  },
  {
   "cell_type": "code",
   "execution_count": 410,
   "id": "f33bb242",
   "metadata": {},
   "outputs": [],
   "source": [
    "count_vect = CountVectorizer(analyzer=preprocess_text)"
   ]
  }
 ],
 "metadata": {
  "kernelspec": {
   "display_name": "Python 3",
   "language": "python",
   "name": "python3"
  },
  "language_info": {
   "codemirror_mode": {
    "name": "ipython",
    "version": 3
   },
   "file_extension": ".py",
   "mimetype": "text/x-python",
   "name": "python",
   "nbconvert_exporter": "python",
   "pygments_lexer": "ipython3",
   "version": "3.8.8"
  }
 },
 "nbformat": 4,
 "nbformat_minor": 5
}
